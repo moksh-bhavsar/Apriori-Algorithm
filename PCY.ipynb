{
 "cells": [
  {
   "cell_type": "code",
   "execution_count": 1,
   "id": "ec3f523b",
   "metadata": {},
   "outputs": [],
   "source": [
    "# importing modules needed\n",
    "import pandas as pd\n",
    "import numpy as np\n",
    "import math\n",
    "import time\n",
    "from itertools import combinations"
   ]
  },
  {
   "cell_type": "code",
   "execution_count": 2,
   "id": "1dd8191b",
   "metadata": {},
   "outputs": [],
   "source": [
    "# reading file using Pandas and converting it to DataFrame\n",
    "file = pd.read_csv(\"retail.txt\", names=['items'], dtype=object)\n",
    "\n",
    "# converting the data into an array and removing \"\\n\"\n",
    "for i in file.index:\n",
    "    file.iloc[i]['items'] = file.iloc[i]['items'].split(\" \")\n",
    "    del file.iloc[i]['items'][-1]\n",
    "\n"
   ]
  },
  {
   "cell_type": "code",
   "execution_count": 3,
   "id": "af9e7d16",
   "metadata": {},
   "outputs": [],
   "source": [
    "# defining the number of buckets and creating hashtable and bitmap\n",
    "num_buckets = 10000\n",
    "hashtable = np.zeros((num_buckets))\n",
    "bitmap = np.zeros((num_buckets), dtype=bool)"
   ]
  },
  {
   "cell_type": "code",
   "execution_count": 4,
   "id": "76ed6e49",
   "metadata": {},
   "outputs": [],
   "source": [
    "# hashing functions that hashes two items to a index in hashtable/bitmap\n",
    "def hash(item1: str, item2: str)->int:\n",
    "    num1 = int(item1)\n",
    "    num2 = int(item2)\n",
    "    return ((num1 + num2) % num_buckets)"
   ]
  },
  {
   "cell_type": "code",
   "execution_count": 5,
   "id": "29201f5b",
   "metadata": {},
   "outputs": [],
   "source": [
    "# using combinations from itertools to create pairs of items\n",
    "def createPairs(basket: list):\n",
    "    return list(combinations(basket, 2))"
   ]
  },
  {
   "cell_type": "code",
   "execution_count": 6,
   "id": "58292a10",
   "metadata": {},
   "outputs": [],
   "source": [
    "def PCY(transactions: pd.DataFrame, min_support: int) -> pd.DataFrame:\n",
    "    # creating empty dataframe\n",
    "    candidate_set = pd.DataFrame(columns=['support'])\n",
    "    \n",
    "    # iterating the dataset to find support of individual items.\n",
    "    for i in transactions.index:\n",
    "        for item in transactions['items'][i]:\n",
    "            if item in candidate_set.index:\n",
    "                candidate_set.at[item, 'support'] += 1\n",
    "            else:\n",
    "                df2 = pd.DataFrame(columns=['support'])\n",
    "                df2.loc[item, 'support'] = 1 \n",
    "                candidate_set = pd.concat([candidate_set, df2])\n",
    "        \n",
    "        # creating pair of items in a basket\n",
    "        pairs = createPairs(transactions['items'][i])\n",
    "        # hashing the pairs to hashtable and increasing the count\n",
    "        for pair in pairs:\n",
    "            hashtable[hash(pair[0], pair[1])] += 1\n",
    "\n",
    "    # converting hashtable to bitmap\n",
    "    for i in range(len(hashtable)):\n",
    "        if(hashtable[i] >= min_support):\n",
    "            bitmap[i] = 1\n",
    "        else:\n",
    "            bitmap[i] = 0\n",
    "\n",
    "    frequent_itemset = pd.DataFrame(columns=['items'])\n",
    "    \n",
    "    pairs = list(combinations(candidate_set.index,2))\n",
    "    index = candidate_set.index\n",
    "    # checking if the pair is frequent\n",
    "    for pair in pairs:\n",
    "        item1 = pair[0]\n",
    "        item2 = pair[1]\n",
    "        if (bitmap[hash(item1, item2)]):\n",
    "            if(candidate_set.loc[index[index.get_loc(item1)]]['support'] >= min_support and \n",
    "               candidate_set.loc[index[index.get_loc(item2)]]['support'] >= min_support):\n",
    "                df = pd.DataFrame({'items': [pair]})\n",
    "                frequent_itemset = pd.concat([frequent_itemset,df], ignore_index=True)\n",
    "\n",
    "    \n",
    "    return frequent_itemset"
   ]
  },
  {
   "cell_type": "code",
   "execution_count": 7,
   "id": "5d952028",
   "metadata": {},
   "outputs": [
    {
     "name": "stdout",
     "output_type": "stream",
     "text": [
      "2474.8916749954224\n"
     ]
    }
   ],
   "source": [
    "start_time = time.time()\n",
    "freq = PCY(file.sample(frac=0.05, ignore_index= True), 20)\n",
    "end_time = time.time()\n",
    "print(end_time-start_time)"
   ]
  },
  {
   "cell_type": "code",
   "execution_count": 75,
   "id": "61a2f854",
   "metadata": {},
   "outputs": [
    {
     "name": "stdout",
     "output_type": "stream",
     "text": [
      "Empty DataFrame\n",
      "Columns: [items]\n",
      "Index: []\n"
     ]
    }
   ],
   "source": [
    "print(freq)"
   ]
  },
  {
   "cell_type": "code",
   "execution_count": null,
   "id": "04871bf1",
   "metadata": {},
   "outputs": [],
   "source": []
  }
 ],
 "metadata": {
  "kernelspec": {
   "display_name": "Python 3 (ipykernel)",
   "language": "python",
   "name": "python3"
  },
  "language_info": {
   "codemirror_mode": {
    "name": "ipython",
    "version": 3
   },
   "file_extension": ".py",
   "mimetype": "text/x-python",
   "name": "python",
   "nbconvert_exporter": "python",
   "pygments_lexer": "ipython3",
   "version": "3.8.9"
  }
 },
 "nbformat": 4,
 "nbformat_minor": 5
}
